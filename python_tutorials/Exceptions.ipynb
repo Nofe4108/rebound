{
 "cells": [
  {
   "cell_type": "markdown",
   "metadata": {},
   "source": [
    "# Catching close encounters and escaping planets using exceptions\n",
    "Sometimes one is interested in catching a close encounter between two planets or planets escaping the planetary system. This can be easily done with REBOUND. What you do when a close encounter or an escape happens, is up to you.\n",
    "\n",
    "Some integrators are better suited to simulate close encounters than other. For example, the non-symplectic integrator IAS15 has an adaptive timestep scheme that resolves close encounters very well. Integrators that use a fixed timestep WHFast are more likely to miss close encounters.\n",
    "\n",
    "In this tutorial we'll start with a two-planet system that will go unstable on a short timescale:"
   ]
  },
  {
   "cell_type": "code",
   "execution_count": 1,
   "metadata": {
    "collapsed": false
   },
   "outputs": [],
   "source": [
    "import rebound\n",
    "import numpy as np\n",
    "def setupSimulation():\n",
    "    rebound.reset()\n",
    "    rebound.integrator = \"ias15\" # IAS15 is the default integrator, so we don't need this line\n",
    "    rebound.add(m=1.)\n",
    "    rebound.add(m=1e-3,a=1.)\n",
    "    rebound.add(m=1e-3,a=1.25)\n",
    "    rebound.move_to_com()"
   ]
  },
  {
   "cell_type": "markdown",
   "metadata": {},
   "source": [
    "Let's integrate this system for 100 orbital periods."
   ]
  },
  {
   "cell_type": "code",
   "execution_count": 2,
   "metadata": {
    "collapsed": false
   },
   "outputs": [],
   "source": [
    "setupSimulation()\n",
    "rebound.integrate(100.*2.*np.pi)"
   ]
  },
  {
   "cell_type": "markdown",
   "metadata": {},
   "source": [
    "Rebound exits the integration routine normally. We can now explore the final particle orbits:"
   ]
  },
  {
   "cell_type": "code",
   "execution_count": 3,
   "metadata": {
    "collapsed": false
   },
   "outputs": [
    {
     "name": "stdout",
     "output_type": "stream",
     "text": [
      "<rebound.Orbit instance, a=1.3374239512456079 e=0.11214122057147514>\n",
      "<rebound.Orbit instance, a=0.9435143095295784 e=0.07045492622646145>\n"
     ]
    }
   ],
   "source": [
    "for o in rebound.calculate_orbits():\n",
    "    print(o)"
   ]
  },
  {
   "cell_type": "markdown",
   "metadata": {},
   "source": [
    "We see that the orbits of both planets changed significantly and we can already speculate that there was a close encounter.\n",
    "\n",
    "Let's redo the simulation, but this time set the `minD` flag in the integrate routine. If this flag is set, then REBOUND calculates the minimum distance between any two particle pairs. If the distance is less than `minD`, then the integration is stopped and an exception thrown. The [Hill radius](http://en.wikipedia.org/wiki/Hill_sphere) is given by $r_{\\rm Hill} \\approx a \\sqrt{\\frac{m}{3M}}$ which is approximately 0.06 in our case. Let's set the breakout flag `minD` to roughly three Hill radii and see what happens:"
   ]
  },
  {
   "cell_type": "code",
   "execution_count": 4,
   "metadata": {
    "collapsed": false
   },
   "outputs": [
    {
     "ename": "CloseEncounter",
     "evalue": "A close encounter occured between particles 2 and 1.",
     "output_type": "error",
     "traceback": [
      "\u001b[0;31m---------------------------------------------------------------------------\u001b[0m",
      "\u001b[0;31mCloseEncounter\u001b[0m                            Traceback (most recent call last)",
      "\u001b[0;32m<ipython-input-4-7d858af9ba78>\u001b[0m in \u001b[0;36m<module>\u001b[0;34m()\u001b[0m\n\u001b[1;32m      1\u001b[0m \u001b[0msetupSimulation\u001b[0m\u001b[0;34m(\u001b[0m\u001b[0;34m)\u001b[0m \u001b[0;31m# Resets everything\u001b[0m\u001b[0;34m\u001b[0m\u001b[0m\n\u001b[0;32m----> 2\u001b[0;31m \u001b[0mrebound\u001b[0m\u001b[0;34m.\u001b[0m\u001b[0mintegrate\u001b[0m\u001b[0;34m(\u001b[0m\u001b[0;36m100.\u001b[0m\u001b[0;34m*\u001b[0m\u001b[0;36m2.\u001b[0m\u001b[0;34m*\u001b[0m\u001b[0mnp\u001b[0m\u001b[0;34m.\u001b[0m\u001b[0mpi\u001b[0m\u001b[0;34m,\u001b[0m \u001b[0mminD\u001b[0m\u001b[0;34m=\u001b[0m\u001b[0;36m0.2\u001b[0m\u001b[0;34m)\u001b[0m\u001b[0;34m\u001b[0m\u001b[0m\n\u001b[0m",
      "\u001b[0;32m/Users/dtamayo/Documents/workspace/rebound/rebound/librebound.py\u001b[0m in \u001b[0;36mintegrate\u001b[0;34m(self, tmax, exact_finish_time, synchronize_each_timestep, particles_modified, maxR, minD)\u001b[0m\n\u001b[1;32m    330\u001b[0m             \u001b[0;32mif\u001b[0m \u001b[0mret_value\u001b[0m \u001b[0;34m==\u001b[0m \u001b[0;36m3\u001b[0m\u001b[0;34m:\u001b[0m\u001b[0;34m\u001b[0m\u001b[0m\n\u001b[1;32m    331\u001b[0m                 raise self.CloseEncounter(c_int.in_dll(self.clibrebound, \"closeEncounterPi\").value,\n\u001b[0;32m--> 332\u001b[0;31m                                      c_int.in_dll(self.clibrebound, \"closeEncounterPj\").value)\n\u001b[0m\u001b[1;32m    333\u001b[0m         \u001b[0;32melse\u001b[0m\u001b[0;34m:\u001b[0m\u001b[0;34m\u001b[0m\u001b[0m\n\u001b[1;32m    334\u001b[0m             \u001b[0mdebug\u001b[0m\u001b[0;34m.\u001b[0m\u001b[0mintegrate_other_package\u001b[0m\u001b[0;34m(\u001b[0m\u001b[0mtmax\u001b[0m\u001b[0;34m,\u001b[0m\u001b[0mexact_finish_time\u001b[0m\u001b[0;34m,\u001b[0m\u001b[0msynchronize_each_timestep\u001b[0m\u001b[0;34m)\u001b[0m\u001b[0;34m\u001b[0m\u001b[0m\n",
      "\u001b[0;31mCloseEncounter\u001b[0m: A close encounter occured between particles 2 and 1."
     ]
    }
   ],
   "source": [
    "setupSimulation() # Resets everything\n",
    "rebound.integrate(100.*2.*np.pi, minD=0.2)"
   ]
  },
  {
   "cell_type": "markdown",
   "metadata": {},
   "source": [
    "As you see, we got an exception! Let's redo the simulation once again and store the particle distance while we're integrating. This time we'll also catch the exception with a try/except construct so that our script doesn't break."
   ]
  },
  {
   "cell_type": "code",
   "execution_count": 6,
   "metadata": {
    "collapsed": false
   },
   "outputs": [
    {
     "name": "stdout",
     "output_type": "stream",
     "text": [
      "Close encounter detected at t=67.549399, between particles 2 and 1.\n"
     ]
    }
   ],
   "source": [
    "setupSimulation() # Resets everything\n",
    "Noutputs = 1000\n",
    "times = np.linspace(0,100.*2.*np.pi,Noutputs)\n",
    "distances = np.zeros(Noutputs)\n",
    "ps = rebound.particles # ps is now an array of pointers. It will update as the simulation runs.\n",
    "try:\n",
    "    for i,time in enumerate(times):\n",
    "        rebound.integrate(time,minD=0.2)\n",
    "        dx = ps[1].x - ps[2].x\n",
    "        dy = ps[1].y - ps[2].y\n",
    "        dz = ps[1].z - ps[2].z\n",
    "        distances[i] = np.sqrt(dx*dx+dy*dy+dz*dz)\n",
    "except rebound.CloseEncounter as e:\n",
    "    print(\"Close encounter detected at t=%f, between particles %d and %d.\" % (rebound.t, e.id1, e.id2))"
   ]
  },
  {
   "cell_type": "markdown",
   "metadata": {},
   "source": [
    "Let plot the distance as a function of time."
   ]
  },
  {
   "cell_type": "code",
   "execution_count": 7,
   "metadata": {
    "collapsed": false,
    "scrolled": false
   },
   "outputs": [
    {
     "data": {
      "image/png": "[encoded data removed]",
      "text/plain": [
       "<matplotlib.figure.Figure at 0x106dd4470>"
      ]
     },
     "metadata": {},
     "output_type": "display_data"
    }
   ],
   "source": [
    "%matplotlib inline\n",
    "import matplotlib.pyplot as plt\n",
    "fig = plt.figure(figsize=(10,5))\n",
    "ax = plt.subplot(111)\n",
    "ax.set_xlabel(\"time [orbits]\")\n",
    "ax.set_xlim([0,rebound.t/(2.*np.pi)])\n",
    "ax.set_ylabel(\"distance\")\n",
    "plt.plot(times/(2.*np.pi), distances);\n",
    "plt.plot([0.0,12],[0.2,0.2]) # Plot our close encounter criteria;"
   ]
  },
  {
   "cell_type": "markdown",
   "metadata": {},
   "source": [
    "We did indeed find the close enounter correctly. We could now do something with the two particles that collided. \n",
    "\n",
    "Let's to the simplest thing, let's merge them. To do that we'll first calculate our new merged planet coordinates, then clear all particles from REBOUND and finally add the new particles."
   ]
  },
  {
   "cell_type": "code",
   "execution_count": 9,
   "metadata": {
    "collapsed": false
   },
   "outputs": [
    {
     "name": "stdout",
     "output_type": "stream",
     "text": [
      "Number of particles at the beginning of the simulation: 3.\n",
      "Close encounter detected at t=67.549399, between particles 2 and 1. Merging.\n",
      "Number of particles at the end of the simulation: 2.\n"
     ]
    }
   ],
   "source": [
    "import copy\n",
    "def mergeParticles(id1,id2):\n",
    "    old_ps = rebound.particles\n",
    "    new_ps = []\n",
    "    for i in range(rebound.N):\n",
    "        if i!=id1 and i!=id2:\n",
    "            new_ps.append(copy.deepcopy(old_ps[i]))        \n",
    "    mergedPlanet = rebound.Particle()\n",
    "    mergedPlanet.m  = old_ps[id1].m + old_ps[id2].m\n",
    "    mergedPlanet.x  = (old_ps[id1].m*old_ps[id1].x  + old_ps[id2].m*old_ps[id2].x) /mergedPlanet.m\n",
    "    mergedPlanet.y  = (old_ps[id1].m*old_ps[id1].y  + old_ps[id2].m*old_ps[id2].y) /mergedPlanet.m\n",
    "    mergedPlanet.z  = (old_ps[id1].m*old_ps[id1].z  + old_ps[id2].m*old_ps[id2].z) /mergedPlanet.m\n",
    "    mergedPlanet.vx = (old_ps[id1].m*old_ps[id1].vx + old_ps[id2].m*old_ps[id2].vx)/mergedPlanet.m\n",
    "    mergedPlanet.vy = (old_ps[id1].m*old_ps[id1].vy + old_ps[id2].m*old_ps[id2].vy)/mergedPlanet.m\n",
    "    mergedPlanet.vz = (old_ps[id1].m*old_ps[id1].vz + old_ps[id2].m*old_ps[id2].vz)/mergedPlanet.m\n",
    "    new_ps.append(mergedPlanet)\n",
    "    del(rebound.particles)\n",
    "    rebound.add(new_ps)\n",
    "\n",
    "setupSimulation() # Resets everything\n",
    "print(\"Number of particles at the beginning of the simulation: %d.\"%rebound.N)\n",
    "for i,time in enumerate(times):\n",
    "    try:\n",
    "        rebound.integrate(time,minD=0.2)\n",
    "    except rebound.CloseEncounter as e:\n",
    "        print(\"Close encounter detected at t=%f, between particles %d and %d. Merging.\" % (rebound.t, e.id1, e.id2))\n",
    "        mergeParticles(e.id1,e.id2)\n",
    "print(\"Number of particles at the end of the simulation: %d.\"%rebound.N)"
   ]
  },
  {
   "cell_type": "code",
   "execution_count": null,
   "metadata": {
    "collapsed": true
   },
   "outputs": [],
   "source": []
  }
 ],
 "metadata": {
  "kernelspec": {
   "display_name": "Python 3",
   "language": "python",
   "name": "python3"
  },
  "language_info": {
   "codemirror_mode": {
    "name": "ipython",
    "version": 3
   },
   "file_extension": ".py",
   "mimetype": "text/x-python",
   "name": "python",
   "nbconvert_exporter": "python",
   "pygments_lexer": "ipython3",
   "version": "3.4.3"
  }
 },
 "nbformat": 4,
 "nbformat_minor": 0
}
