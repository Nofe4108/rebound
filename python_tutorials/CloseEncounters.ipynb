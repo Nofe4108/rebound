{
 "cells": [
  {
   "cell_type": "markdown",
   "metadata": {},
   "source": [
    "# Catching close encounters using exceptions\n",
    "Sometimes one is interested in catching a close encounter between two planets. This can easily be done with REBOUND. What you do when a close encounter happens is up to you.\n",
    "\n",
    "Some integrators are better suited to simulate close encounters than others. For example, the non-symplectic integrator IAS15 has an adaptive timestep scheme that resolves close encounters very well. Integrators that use a fixed timestep like WHFast are more likely to miss close encounters.\n",
    "\n",
    "Let's start with a two-planet system that will go unstable on a short timescale (we'll also assign them arbitrary IDs for later use):"
   ]
  },
  {
   "cell_type": "code",
   "execution_count": 1,
   "metadata": {
    "collapsed": false
   },
   "outputs": [],
   "source": [
    "import rebound\n",
    "import numpy as np\n",
    "def setupSimulation():\n",
    "    rebound.reset()\n",
    "    rebound.integrator = \"ias15\" # IAS15 is the default integrator, so we don't need this line\n",
    "    rebound.add(m=1., ID=1)\n",
    "    rebound.add(m=1e-3,a=1., ID=5)\n",
    "    rebound.add(m=5e-3,a=1.25, ID=7)\n",
    "    rebound.move_to_com()"
   ]
  },
  {
   "cell_type": "markdown",
   "metadata": {},
   "source": [
    "Let's integrate this system for 100 orbital periods."
   ]
  },
  {
   "cell_type": "code",
   "execution_count": 2,
   "metadata": {
    "collapsed": false
   },
   "outputs": [],
   "source": [
    "setupSimulation()\n",
    "rebound.integrate(100.*2.*np.pi)"
   ]
  },
  {
   "cell_type": "markdown",
   "metadata": {},
   "source": [
    "Rebound exits the integration routine normally. We can now explore the final particle orbits:"
   ]
  },
  {
   "cell_type": "code",
   "execution_count": 3,
   "metadata": {
    "collapsed": false
   },
   "outputs": [
    {
     "name": "stdout",
     "output_type": "stream",
     "text": [
      "<rebound.Orbit instance, a=4.818275184875015 e=0.719825680767194>\n",
      "<rebound.Orbit instance, a=1.042152516577048 e=0.12277280459654771>\n"
     ]
    }
   ],
   "source": [
    "for o in rebound.calculate_orbits():\n",
    "    print(o)"
   ]
  },
  {
   "cell_type": "markdown",
   "metadata": {},
   "source": [
    "We see that the orbits of both planets changed significantly and we can already speculate that there was a close encounter.\n",
    "\n",
    "Let's redo the simulation, but this time set the `minD` flag in the integrate routine. If this flag is set, then REBOUND calculates the minimum distance between any two particle pairs. If the distance is less than `minD`, then the integration is stopped and an exception thrown. The [Hill radius](http://en.wikipedia.org/wiki/Hill_sphere) is given by $r_{\\rm Hill} \\approx a \\sqrt{\\frac{m}{3M}}$ which is approximately 0.15 AU in our case. \n",
    "\n",
    "If we simply set the breakout flag `minD` when we call `rebound.integrate`, and there's a close encounter, the program will crash due to an unhandled exception.  This setup allows us to instead catch the exception and deal with it in a customized way.  As a first example, let's catch the exception with a `try`-`except` block, and simply print out information about the close encounter, and let's set `minD` to roughly one Hill radius.  Additionally, let's store the particles' separations while we're integrating:"
   ]
  },
  {
   "cell_type": "code",
   "execution_count": 4,
   "metadata": {
    "collapsed": false
   },
   "outputs": [
    {
     "name": "stdout",
     "output_type": "stream",
     "text": [
      "A close encounter occured at time 28.774871 between particles with indices 2 and 1.\n",
      "If instead we wanted the IDs we could print them like this: 7 and 5\n"
     ]
    }
   ],
   "source": [
    "setupSimulation() # Resets everything\n",
    "Noutputs = 1000\n",
    "times = np.linspace(0,100.*2.*np.pi,Noutputs)\n",
    "distances = np.zeros(Noutputs)\n",
    "ps = rebound.particles # ps is now an array of pointers. It will update as the simulation runs.\n",
    "try:\n",
    "    for i,time in enumerate(times):\n",
    "        rebound.integrate(time,minD=0.15)\n",
    "        dx = ps[1].x - ps[2].x\n",
    "        dy = ps[1].y - ps[2].y\n",
    "        dz = ps[1].z - ps[2].z\n",
    "        distances[i] = np.sqrt(dx*dx+dy*dy+dz*dz)\n",
    "except rebound.CloseEncounter as error:\n",
    "    print(error)\n",
    "    print(\"If instead we wanted the IDs we could print them like this: {0} and {1}\".format(ps[error.index1].ID, ps[error.index2].ID))"
   ]
  },
  {
   "cell_type": "markdown",
   "metadata": {},
   "source": [
    "The `CloseEncounter` exception stores the indices in the `particles` array that had the close encounter, and we used that to get the particle IDs.  Now let's plot the separations:"
   ]
  },
  {
   "cell_type": "code",
   "execution_count": 5,
   "metadata": {
    "collapsed": false,
    "scrolled": false
   },
   "outputs": [
    {
     "data": {
      "image/png": "[encoded data removed]",
      "text/plain": [
       "<matplotlib.figure.Figure at 0x10503ecf8>"
      ]
     },
     "metadata": {},
     "output_type": "display_data"
    }
   ],
   "source": [
    "%matplotlib inline\n",
    "import matplotlib.pyplot as plt\n",
    "fig = plt.figure(figsize=(10,5))\n",
    "ax = plt.subplot(111)\n",
    "ax.set_xlabel(\"time [orbits]\")\n",
    "ax.set_xlim([0,rebound.t/(2.*np.pi)])\n",
    "ax.set_ylabel(\"distance\")\n",
    "plt.plot(times/(2.*np.pi), distances);\n",
    "plt.plot([0.0,12],[0.2,0.2]) # Plot our close encounter criteria;"
   ]
  },
  {
   "cell_type": "markdown",
   "metadata": {},
   "source": [
    "We did indeed find the close enounter correctly. We could now do something with the two particles that collided. \n",
    "\n",
    "Let's to the simplest thing, let's merge them. To do that we'll first calculate our new merged planet coordinates, then clear all particles from REBOUND and finally add the new particles.  Here we also choose to assign the new merged body the ID of the larger-mass particle."
   ]
  },
  {
   "cell_type": "code",
   "execution_count": 6,
   "metadata": {
    "collapsed": false
   },
   "outputs": [
    {
     "name": "stdout",
     "output_type": "stream",
     "text": [
      "Number of particles at the beginning of the simulation: 3.\n",
      "A close encounter occured at time 28.156505 between particles with indices 2 and 1.\n",
      "ID of merged particle: 7.\n",
      "Number of particles at the end of the simulation: 2.\n"
     ]
    }
   ],
   "source": [
    "import copy\n",
    "def mergeParticles(i1,i2):\n",
    "    old_ps = rebound.particles\n",
    "    new_ps = []\n",
    "    for i in range(rebound.N):\n",
    "        if i!=i1 and i!=i2:\n",
    "            new_ps.append(copy.deepcopy(old_ps[i]))        \n",
    "    mergedPlanet = rebound.Particle()\n",
    "    mergedPlanet.m  = old_ps[i1].m + old_ps[i2].m\n",
    "    mergedPlanet.x  = (old_ps[i1].m*old_ps[i1].x  + old_ps[i2].m*old_ps[i2].x) /mergedPlanet.m\n",
    "    mergedPlanet.y  = (old_ps[i1].m*old_ps[i1].y  + old_ps[i2].m*old_ps[i2].y) /mergedPlanet.m\n",
    "    mergedPlanet.z  = (old_ps[i1].m*old_ps[i1].z  + old_ps[i2].m*old_ps[i2].z) /mergedPlanet.m\n",
    "    mergedPlanet.vx = (old_ps[i1].m*old_ps[i1].vx + old_ps[i2].m*old_ps[i2].vx)/mergedPlanet.m\n",
    "    mergedPlanet.vy = (old_ps[i1].m*old_ps[i1].vy + old_ps[i2].m*old_ps[i2].vy)/mergedPlanet.m\n",
    "    mergedPlanet.vz = (old_ps[i1].m*old_ps[i1].vz + old_ps[i2].m*old_ps[i2].vz)/mergedPlanet.m\n",
    "    mergedPlanet.ID = old_ps[i1].ID if old_ps[i1].m > old_ps[i2].m else old_ps[i2].ID # give ID of higher mass body\n",
    "    new_ps.append(mergedPlanet)\n",
    "    del(rebound.particles)\n",
    "    rebound.add(new_ps)\n",
    "\n",
    "setupSimulation() # Resets everything\n",
    "print(\"Number of particles at the beginning of the simulation: %d.\"%rebound.N)\n",
    "for i,time in enumerate(times):\n",
    "    try:\n",
    "        rebound.integrate(time,minD=0.2)\n",
    "    except rebound.CloseEncounter as error:\n",
    "        print(error)\n",
    "        mergeParticles(error.index1,error.index2)\n",
    "print(\"ID of merged particle: %d.\"%rebound.particles[-1].ID)\n",
    "print(\"Number of particles at the end of the simulation: %d.\"%rebound.N)"
   ]
  },
  {
   "cell_type": "code",
   "execution_count": null,
   "metadata": {
    "collapsed": true
   },
   "outputs": [],
   "source": []
  }
 ],
 "metadata": {
  "kernelspec": {
   "display_name": "Python 3",
   "language": "python",
   "name": "python3"
  },
  "language_info": {
   "codemirror_mode": {
    "name": "ipython",
    "version": 3
   },
   "file_extension": ".py",
   "mimetype": "text/x-python",
   "name": "python",
   "nbconvert_exporter": "python",
   "pygments_lexer": "ipython3",
   "version": "3.4.3"
  }
 },
 "nbformat": 4,
 "nbformat_minor": 0
}
