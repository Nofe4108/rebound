{
 "cells": [
  {
   "cell_type": "markdown",
   "metadata": {},
   "source": [
    "# Settings the units for a simulation\n",
    "\n",
    "For convenience, REBOUND offers simple functionality for converting units.  One implicitly sets the units for the simulation through the values used for the initial conditions, but one has to set the appropriate value for the gravitational constant G, and sometimes it is convenient to get the output in different units.\n",
    "\n",
    "The default value for G is 1, so one can:\n",
    "\n",
    "a) use units for the initial conditions where G=1 (e.g., AU, $M_\\odot$, yr/$2\\pi$)\n",
    "\n",
    "b) set G manually to the value appropriate for the adopted initial conditions, e.g., to use SI units,"
   ]
  },
  {
   "cell_type": "code",
   "execution_count": 1,
   "metadata": {
    "collapsed": false
   },
   "outputs": [],
   "source": [
    "import rebound\n",
    "import math\n",
    "rebound.G = 6.674e-11"
   ]
  },
  {
   "cell_type": "markdown",
   "metadata": {},
   "source": [
    "c) set rebound.units:"
   ]
  },
  {
   "cell_type": "code",
   "execution_count": 2,
   "metadata": {
    "collapsed": false
   },
   "outputs": [
    {
     "name": "stdout",
     "output_type": "stream",
     "text": [
      "G = 39.476926421373.  Should be 39.47841760435743.\n"
     ]
    }
   ],
   "source": [
    "rebound.units = ('yr', 'AU', 'Msun')\n",
    "print(\"G = {0}.  Should be {1}.\".format(rebound.G, 4*math.pi**2))"
   ]
  },
  {
   "cell_type": "markdown",
   "metadata": {},
   "source": [
    "When you set the units, REBOUND converts G to the appropriate value for the units passed (must pass exactly 3 units, but can be in any order).  Note that if you are interested in high precision, you have to be quite particular about the exact units.  The reason for the above discrepancy is mostly that we follow the convention of defining a year as 365.25 days (a Julian year), whereas the Earth's sidereal orbital period is closer to 365.256 days (and at even finer level, Venus and Mercury modify the orbital period).\n",
    "\n",
    "##Adding particles\n",
    "\n",
    "If you use `rebound.units` at all, you need to set the units before adding any particles.  You can then add particles in any of the ways described in [WHFast.ipynb](WHFast.ipynb).  You can also add particles drawing from the horizons database (see [Churyumov-Gerasimenko.ipynb](Churyumov-Gerasimenko.ipynb)).  If you don't set the units ahead of time, HORIZONS will return initial conditions in units of AU, $M_\\odot$ and yrs/$2\\pi$, such that G=1.  \n",
    "\n",
    "Above we switched to units of AU, $M_\\odot$ and yrs, so when we add Earth:"
   ]
  },
  {
   "cell_type": "code",
   "execution_count": 3,
   "metadata": {
    "collapsed": false
   },
   "outputs": [
    {
     "name": "stdout",
     "output_type": "stream",
     "text": [
      "Searching NASA Horizons for 'Earth'... Found: Earth-Moon Barycenter (3).\n",
      "v = 6.179316627554667\n"
     ]
    }
   ],
   "source": [
    "rebound.add('Earth')\n",
    "ps = rebound.particles\n",
    "import math\n",
    "print(\"v = {0}\".format(math.sqrt(ps[0].vx**2 + ps[0].vy**2 + ps[0].vz**2)))"
   ]
  },
  {
   "cell_type": "markdown",
   "metadata": {},
   "source": [
    "we see that the velocity is correctly set to approximately $2\\pi$ AU/yr.\n",
    "\n",
    "If you'd like to enter the initial conditions in one set of units, and then use a different set for the simulation, you can use the rebound.convert_particle_units function, which converts both the initial conditions and G.  Since we added Earth above, we have to reset rebound; otherwise we'll get an error saying that we can't set the units with particles already loaded:"
   ]
  },
  {
   "cell_type": "code",
   "execution_count": 4,
   "metadata": {
    "collapsed": false
   },
   "outputs": [
    {
     "name": "stdout",
     "output_type": "stream",
     "text": [
      "---------------------------------\n",
      "Rebound version:     \t1.2.0\n",
      "Build on:            \tb'Jul  9 2015 10:12:39'\n",
      "Number of particles: \t2\n",
      "Simulation time:     \t0.000000\n",
      "---------------------------------\n",
      "<rebound.Particle object, ID=-1 m=1.0007547141626585 x=0.0 y=0.0 z=0.0 vx=0.0 vy=0.0 vz=0.0>\n",
      "<rebound.Particle object, ID=-1 m=3.0022641424879755e-06 x=1.0026880683402668 y=0.0 z=0.0 vx=0.0 vy=6.2770157204114065 vz=0.0>\n",
      "---------------------------------\n"
     ]
    }
   ],
   "source": [
    "rebound.reset()\n",
    "rebound.units = ('m', 's', 'kg')\n",
    "rebound.add(m=1.99e30)\n",
    "rebound.add(m=5.97e24,a=1.5e11)\n",
    "\n",
    "rebound.convert_particle_units('AU', 'yr', 'Msun')\n",
    "rebound.status()"
   ]
  },
  {
   "cell_type": "markdown",
   "metadata": {},
   "source": [
    "We first set the units to SI, added (approximate values for) the Sun and Earth in these units, and switched to AU, yr, $M_\\odot$.  You can see that the particle states were converted correctly--the Sun has a mass of about 1, and the Earth has a distance of about 1.\n",
    "\n",
    "Note that when you pass orbital elements to rebound.add, you *must* make sure `G` is set correctly ahead of time (through either 3 of the methods above), since it will use the value of `rebound.G` to generate the velocities:"
   ]
  },
  {
   "cell_type": "code",
   "execution_count": 5,
   "metadata": {
    "collapsed": false
   },
   "outputs": [
    {
     "name": "stdout",
     "output_type": "stream",
     "text": [
      "G = 1.0\n",
      "---------------------------------\n",
      "Rebound version:     \t1.2.0\n",
      "Build on:            \tb'Jul  9 2015 10:12:39'\n",
      "Number of particles: \t2\n",
      "Simulation time:     \t0.000000\n",
      "---------------------------------\n",
      "<rebound.Particle object, ID=-1 m=1.99e+30 x=0.0 y=0.0 z=0.0 vx=0.0 vy=0.0 vz=0.0>\n",
      "<rebound.Particle object, ID=-1 m=5.97e+24 x=150000000000.0 y=0.0 z=0.0 vx=0.0 vy=3642349031.4173164 vz=0.0>\n",
      "---------------------------------\n"
     ]
    }
   ],
   "source": [
    "rebound.reset()\n",
    "print(\"G = {0}\".format(rebound.G))\n",
    "rebound.add(m=1.99e30)\n",
    "rebound.add(m=5.97e24,a=1.5e11)\n",
    "rebound.status()"
   ]
  },
  {
   "cell_type": "markdown",
   "metadata": {},
   "source": [
    "The orbital speed of Earth is $\\sim 3\\times 10^5$ m/s, but since we didn't correctly set G, we get $\\sim 3\\times 10^9$ m/s, so the Earth would fly off the Sun in this simulation."
   ]
  }
 ],
 "metadata": {
  "kernelspec": {
   "display_name": "Python 3",
   "language": "python",
   "name": "python3"
  },
  "language_info": {
   "codemirror_mode": {
    "name": "ipython",
    "version": 3
   },
   "file_extension": ".py",
   "mimetype": "text/x-python",
   "name": "python",
   "nbconvert_exporter": "python",
   "pygments_lexer": "ipython3",
   "version": "3.4.3"
  }
 },
 "nbformat": 4,
 "nbformat_minor": 0
}
