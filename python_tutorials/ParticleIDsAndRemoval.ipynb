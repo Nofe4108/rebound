{
 "cells": [
  {
   "cell_type": "markdown",
   "metadata": {},
   "source": [
    "# Assigning particles unique IDs and removing particles from the simulation\n",
    "\n",
    "For some applications, it is useful to keep track of which particle is which, and this can get jumbled up when particles are added or removed from the simulation.  It can thefore be useful for particles to have unique IDs associated with them.\n",
    "\n",
    "Let's set up a simple simulation with 10 bodies, and give them IDs in the order we add the particles:"
   ]
  },
  {
   "cell_type": "code",
   "execution_count": 1,
   "metadata": {
    "collapsed": false
   },
   "outputs": [
    {
     "name": "stdout",
     "output_type": "stream",
     "text": [
      "[0, 1, 2, 3, 4, 5, 6, 7, 8, 9]\n"
     ]
    }
   ],
   "source": [
    "import rebound\n",
    "import numpy as np\n",
    "\n",
    "def setupSimulation(Nplanets):\n",
    "    rebound.reset()\n",
    "    rebound.integrator = \"ias15\" # IAS15 is the default integrator, so we don't need this line\n",
    "    rebound.add(m=1.,ID=0)\n",
    "    for i in range(1,Nbodies):\n",
    "        rebound.add(m=1e-5,x=i,vy=i**(-0.5),ID=i)\n",
    "    rebound.move_to_com()\n",
    "\n",
    "Nbodies=10\n",
    "setupSimulation(Nbodies)\n",
    "print([rebound.particles[i].ID for i in range(rebound.N)])"
   ]
  },
  {
   "cell_type": "markdown",
   "metadata": {},
   "source": [
    "Now let's do a simple example where we do a short initial integration to isolate the particles that interest us for a longer simulation:"
   ]
  },
  {
   "cell_type": "code",
   "execution_count": 2,
   "metadata": {
    "collapsed": false
   },
   "outputs": [
    {
     "data": {
      "image/png": "[encoded data removed]",
      "text/plain": [
       "<matplotlib.figure.Figure at 0x106e3a6d8>"
      ]
     },
     "metadata": {},
     "output_type": "display_data"
    }
   ],
   "source": [
    "setupSimulation(Nbodies)\n",
    "Noutputs = 1000\n",
    "xs = np.zeros((Nbodies, Noutputs))\n",
    "ys = np.zeros((Nbodies, Noutputs))\n",
    "times = np.linspace(0.,50*2.*np.pi, Noutputs, endpoint=False)\n",
    "for i, time in enumerate(times):\n",
    "    rebound.integrate(time)\n",
    "    xs[:,i] = [rebound.particles[j].x for j in range(Nbodies)]\n",
    "    ys[:,i] = [rebound.particles[j].y for j in range(Nbodies)]\n",
    "%matplotlib inline\n",
    "import matplotlib.pyplot as plt\n",
    "fig,ax = plt.subplots(figsize=(15,5))\n",
    "for i in range(Nbodies):\n",
    "    plt.plot(xs[i,:], ys[i,:])\n",
    "ax.set_aspect('equal')"
   ]
  },
  {
   "cell_type": "markdown",
   "metadata": {},
   "source": [
    "At this stage, we might be interested in particles that remained within some semimajor axis range, particles that were in resonance with a particular planet, etc.  Let's imagine a simple (albeit arbitrary) case where we only want to keep particles that had $x > 0$ at the end of the preliminary integration.  For this we can use the `remove_particle` function, passing it the corresponding index in the particles array."
   ]
  },
  {
   "cell_type": "code",
   "execution_count": 3,
   "metadata": {
    "collapsed": false
   },
   "outputs": [
    {
     "name": "stdout",
     "output_type": "stream",
     "text": [
      "Number of particles after cut = 5\n",
      "IDs of remaining particles = [0, 1, 4, 8, 9]\n",
      "ID\tx\n",
      "0\t6.942329259612184e-05\n",
      "1\t0.9540258354392658\n",
      "2\t-1.0427110924854333\n",
      "3\t-2.235604267935961\n",
      "4\t0.07765021611809243\n",
      "5\t-4.91280573550641\n",
      "6\t-4.876031912173703\n",
      "7\t-2.1809553741838963\n",
      "8\t2.0229880089264367\n",
      "9\t5.251115062189657\n"
     ]
    }
   ],
   "source": [
    "for i in reversed(range(1,Nbodies)):\n",
    "    if xs[i,-1] < 0:\n",
    "        rebound.remove_particle(i)\n",
    "print(\"Number of particles after cut = {0}\".format(rebound.N))\n",
    "print(\"IDs of remaining particles = {0}\".format([rebound.particles[j].ID for j in range(rebound.N)]))\n",
    "print(\"ID\\tx\")\n",
    "for i in range(Nbodies):\n",
    "    print(\"{0}\\t{1}\".format(i, xs[i,-1]))"
   ]
  },
  {
   "cell_type": "markdown",
   "metadata": {},
   "source": [
    "By default, the `remove_particle` function removes the `ith` particle from the `particles` array, and shifts all particles with higher indices down by 1.  This ensures that the original order in the `particles` array is preserved (e.g., to help with output).\n",
    "\n",
    "By running through the planets in reverse order above, we are guaranteed that when a particle with index `i` gets removed, the particle replacing it doesn't need to also be removed (we already checked it).\n",
    "\n",
    "If you have many particles and many removals (or you don't care about the ordering), you can save the reshuffling of all particles with higher indices with the flag `keepSorted=0`:"
   ]
  },
  {
   "cell_type": "code",
   "execution_count": 4,
   "metadata": {
    "collapsed": false
   },
   "outputs": [
    {
     "name": "stdout",
     "output_type": "stream",
     "text": [
      "Number of particles after cut = 4\n",
      "IDs of remaining particles = [0, 1, 9, 8]\n"
     ]
    }
   ],
   "source": [
    "rebound.remove_particle(2, keepSorted=0)\n",
    "print(\"Number of particles after cut = {0}\".format(rebound.N))\n",
    "print(\"IDs of remaining particles = {0}\".format([rebound.particles[j].ID for j in range(rebound.N)]))"
   ]
  },
  {
   "cell_type": "markdown",
   "metadata": {},
   "source": [
    "We see that the `particles` array is no longer sorted by ID.  Note that the default `keepSorted=1` only *keeps* things sorted (i.e., if they were sorted by ID to start with).  If you custom-assign IDs out of order as you add particles, the default will simply preserve the original order.\n",
    "\n",
    "You might also have been surprised that the above `rebound.remove_particle(2, keepSorted=0)` succeeded, since there was no `ID=2` left in the simulation.  That's because `remove_particle` takes the index in the particles array, so we removed the 3rd particle (with `ID=4`).  If you'd like to remove a particle by `ID`, use the `ID` keyword, e.g."
   ]
  },
  {
   "cell_type": "code",
   "execution_count": 5,
   "metadata": {
    "collapsed": false
   },
   "outputs": [
    {
     "name": "stdout",
     "output_type": "stream",
     "text": [
      "Number of particles after cut = 3\n",
      "IDs of remaining particles = [0, 1, 8]\n"
     ]
    }
   ],
   "source": [
    "rebound.remove_particle(ID=9)\n",
    "print(\"Number of particles after cut = {0}\".format(rebound.N))\n",
    "print(\"IDs of remaining particles = {0}\".format([rebound.particles[j].ID for j in range(rebound.N)]))"
   ]
  },
  {
   "cell_type": "markdown",
   "metadata": {},
   "source": [
    "What you'd do now depends on the application, but we can imagine cases (perhaps if we were instead writing output to a file as particles get removed) where we'd want our output arrays to remain the same size even if particles get removed from the simulation.  In this case, since the IDs are initially assigned starting from zero, we can index the output arrays using the particle IDs:"
   ]
  },
  {
   "cell_type": "code",
   "execution_count": 6,
   "metadata": {
    "collapsed": false
   },
   "outputs": [
    {
     "data": {
      "image/png": "[encoded data removed]",
      "text/plain": [
       "<matplotlib.figure.Figure at 0x108775ac8>"
      ]
     },
     "metadata": {},
     "output_type": "display_data"
    }
   ],
   "source": [
    "times = np.linspace(50*2*np.pi, 100*2*np.pi,Noutputs)\n",
    "xs2 = np.zeros((Nbodies, Noutputs))\n",
    "ys2 = np.zeros((Nbodies, Noutputs))\n",
    "for i, time in enumerate(times):\n",
    "    rebound.integrate(time)\n",
    "    for j in range(rebound.N):\n",
    "        xs2[rebound.particles[j].ID,i] = rebound.particles[j].x\n",
    "        ys2[rebound.particles[j].ID,i] = rebound.particles[j].y\n",
    "%matplotlib inline\n",
    "import matplotlib.pyplot as plt\n",
    "fig,ax = plt.subplots(figsize=(15,5))\n",
    "for i in range(rebound.N):\n",
    "    plt.plot(xs2[rebound.particles[i].ID,:], ys2[rebound.particles[i].ID,:])\n",
    "ax.set_aspect('equal')"
   ]
  },
  {
   "cell_type": "markdown",
   "metadata": {},
   "source": [
    "This way, the original output arrays with all the original particles still get indexed with the particle IDs, even after everything gets reshuffled.  For example, the surviving particle with `ID=8` still corresponds to `xs2[8]` and `ys2[8]`:"
   ]
  },
  {
   "cell_type": "code",
   "execution_count": 7,
   "metadata": {
    "collapsed": false
   },
   "outputs": [
    {
     "name": "stdout",
     "output_type": "stream",
     "text": [
      "Avg orbital for particle with ID = 8 was 7.99587587955114\n"
     ]
    }
   ],
   "source": [
    "index = 8\n",
    "print(\"Avg orbital for particle with ID = {0} was {1}\".format(index, np.mean(np.sqrt(xs2[index,::]**2 + ys2[index,::]**2))))"
   ]
  },
  {
   "cell_type": "code",
   "execution_count": null,
   "metadata": {
    "collapsed": true
   },
   "outputs": [],
   "source": []
  }
 ],
 "metadata": {
  "kernelspec": {
   "display_name": "Python 3",
   "language": "python",
   "name": "python3"
  },
  "language_info": {
   "codemirror_mode": {
    "name": "ipython",
    "version": 3
   },
   "file_extension": ".py",
   "mimetype": "text/x-python",
   "name": "python",
   "nbconvert_exporter": "python",
   "pygments_lexer": "ipython3",
   "version": "3.4.3"
  }
 },
 "nbformat": 4,
 "nbformat_minor": 0
}
