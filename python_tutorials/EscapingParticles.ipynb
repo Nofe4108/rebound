{
 "cells": [
  {
   "cell_type": "markdown",
   "metadata": {
    "collapsed": true
   },
   "source": [
    "# Escaping particles\n",
    "\n",
    "Sometimes we are not interested in particles that get too far from the central body.  Here we will define a radius beyond which we remove particles from the simulation.  Let's set up an artificial situation with 2 planets, and the inner one simply moves radially outward with $v > v_{escape}$."
   ]
  },
  {
   "cell_type": "code",
   "execution_count": 1,
   "metadata": {
    "collapsed": true
   },
   "outputs": [],
   "source": [
    "import rebound\n",
    "import numpy as np\n",
    "def setupSimulation():\n",
    "    rebound.reset()\n",
    "    rebound.integrator = \"ias15\" # IAS15 is the default integrator, so we don't need this line\n",
    "    rebound.add(m=1., ID=0)\n",
    "    rebound.add(m=1e-3,x=1.,vx=2., ID=1)\n",
    "    rebound.add(m=1e-3,a=1.25,anom=np.pi/2, ID=2)\n",
    "    rebound.move_to_com()"
   ]
  },
  {
   "cell_type": "markdown",
   "metadata": {
    "collapsed": true
   },
   "source": [
    "We have assigned each particle an ID for later reference (see [IDs.ipynb](IDs.ipynb) for more information)."
   ]
  },
  {
   "cell_type": "code",
   "execution_count": 2,
   "metadata": {
    "collapsed": false
   },
   "outputs": [
    {
     "name": "stdout",
     "output_type": "stream",
     "text": [
      "---------------------------------\n",
      "Rebound version:     \t1.1.0\n",
      "Build on:            \tb'Jul  8 2015 17:19:30'\n",
      "Number of particles: \t3\n",
      "Simulation time:     \t0.000000\n",
      "---------------------------------\n",
      "<rebound.Particle object, ID=0 m=1.0 x=-0.0009990009990009992 y=-0.0012475049900199603 z=0.0 vx=-0.0011044678947844577 vy=-5.47131839717181e-20 vz=0.0>\n",
      "<rebound.Particle object, ID=1 m=0.001 x=0.999000999000999 y=-0.0012475049900199603 z=0.0 vx=1.9988955321052155 vy=-5.47131839717181e-20 vz=0.0>\n",
      "<rebound.Particle object, ID=2 m=0.001 x=7.654467337747661e-17 y=1.24875249500998 z=0.0 vx=-0.894427637320758 vy=5.4767897155689803e-17 vz=0.0>\n",
      "---------------------------------\n"
     ]
    }
   ],
   "source": [
    "setupSimulation()\n",
    "rebound.status()"
   ]
  },
  {
   "cell_type": "markdown",
   "metadata": {},
   "source": [
    "We see that the IDs (first field displayed for each particle) are in ascending order starting from 0.  Now let's run a simulation for 20 years (in default units where $G=1$ of AU, yr/2$\\pi$, and $M_\\odot$, see [Units.ipynb](Units.ipynb) for how to change units), and set up a 50 AU sphere beyond which we remove particles from the simulation.  We can do this by passing a `maxR` value to `rebound.integrate`.  If a particle's distance (from the origin of whatever inertial reference frame chosen) exceeds `maxR`, the particle is removed from the simulation.  It's probably therefore important to have moved to the center of momentum frame in `setupSimulation()` so that our system doesn't slowly drift out of our sphere.\n",
    "\n",
    "If we simply call `rebound.integrate(20.*2.*np.pi, maxR=50.)`, the program will crash due to the unhandled exception when the particle escapes.  This setup allows us to instead catch the exception and deal with it in a customized way.  Let's try removing escaping particles from the simulation with the `rebound.remove_particle` function.  `rebound.remove_particle` takes the index in the `particles` array that you want to remove.  This is stored in the `index` member of the `ParticleEscaping` exception whenever a particle escapes:"
   ]
  },
  {
   "cell_type": "code",
   "execution_count": 3,
   "metadata": {
    "collapsed": false
   },
   "outputs": [
    {
     "name": "stdout",
     "output_type": "stream",
     "text": [
      "At least one particle's distance > maxR at time 33.526518 (index = 1).\n"
     ]
    }
   ],
   "source": [
    "setupSimulation() # Resets everything\n",
    "Noutputs = 1000\n",
    "times = np.linspace(0,20.*2.*np.pi,Noutputs)\n",
    "xs = np.zeros((3,Noutputs))\n",
    "ys = np.zeros((3,Noutputs))\n",
    "for i,time in enumerate(times):\n",
    "    try:\n",
    "        rebound.integrate(time,maxR=50.)  \n",
    "    except rebound.ParticleEscaping as error:\n",
    "        print(error)\n",
    "        rebound.remove_particle(error.index)\n",
    "    for j in range(rebound.N):\n",
    "        xs[j,i] = rebound.particles[j].x\n",
    "        ys[j,i] = rebound.particles[j].y\n",
    "    "
   ]
  },
  {
   "cell_type": "markdown",
   "metadata": {},
   "source": [
    "Let's check that the particle 1 was correctly removed from the simulation:"
   ]
  },
  {
   "cell_type": "code",
   "execution_count": 4,
   "metadata": {
    "collapsed": false
   },
   "outputs": [
    {
     "name": "stdout",
     "output_type": "stream",
     "text": [
      "Number of particles remaining = 2\n",
      "ID of rebound.particles[1] = 2\n"
     ]
    }
   ],
   "source": [
    "print(\"Number of particles remaining = {0}\".format(rebound.N))\n",
    "print(\"ID of rebound.particles[1] = {0}\".format(rebound.particles[1].ID))"
   ]
  },
  {
   "cell_type": "markdown",
   "metadata": {},
   "source": [
    "So this worked as expected.  We went down to 2 particles, and `particles[1]` (which had `ID = 1` before) has evidently been replaced with `particles[2]`).  By default, `rebound.remove_particles` preserves the ordering in the `particles` array (see [IDs.ipynb](IDs.ipynb) for more info).  Now let's plot what we got:"
   ]
  },
  {
   "cell_type": "code",
   "execution_count": 5,
   "metadata": {
    "collapsed": false
   },
   "outputs": [
    {
     "data": {
      "text/plain": [
       "(-2, 10)"
      ]
     },
     "execution_count": 5,
     "metadata": {},
     "output_type": "execute_result"
    },
    {
     "data": {
      "image/png": "[encoded data removed]",
      "text/plain": [
       "<matplotlib.figure.Figure at 0x106016c88>"
      ]
     },
     "metadata": {},
     "output_type": "display_data"
    }
   ],
   "source": [
    "%matplotlib inline\n",
    "import matplotlib.pyplot as plt\n",
    "fig,ax = plt.subplots(figsize=(15,5))\n",
    "for i in range(3):\n",
    "    ax.plot(xs[i,:], ys[i,:])\n",
    "ax.set_aspect('equal')\n",
    "ax.set_xlim([-2,10])"
   ]
  },
  {
   "cell_type": "markdown",
   "metadata": {},
   "source": [
    "Uh oh.  The problem here is that we kept updating `xs[1]` with `particles[1].x` after `particle[1]` was removed.  This means that following the removal, `xs[1]` all of a sudden started getting populated by the values for the particle with `ID=2`.  This is why the radial green trajectory (horizontal line along the $x$ axis) all of a sudden jumps onto the roughly circular orbit corresponding to the outer particle with `ID=2` (originally red).  One way to fix these problems is:"
   ]
  },
  {
   "cell_type": "code",
   "execution_count": 6,
   "metadata": {
    "collapsed": false
   },
   "outputs": [
    {
     "name": "stdout",
     "output_type": "stream",
     "text": [
      "At least one particle's distance > maxR at time 33.526518 (index = 1).\n"
     ]
    },
    {
     "data": {
      "text/plain": [
       "(-2, 10)"
      ]
     },
     "execution_count": 6,
     "metadata": {},
     "output_type": "execute_result"
    },
    {
     "data": {
      "image/png": "[encoded data removed]",
      "text/plain": [
       "<matplotlib.figure.Figure at 0x106c476d8>"
      ]
     },
     "metadata": {},
     "output_type": "display_data"
    }
   ],
   "source": [
    "setupSimulation() # Resets everything\n",
    "Noutputs = 1000\n",
    "times = np.linspace(0,20.*2.*np.pi,Noutputs)\n",
    "xs = np.zeros((3,Noutputs))\n",
    "ys = np.zeros((3,Noutputs))\n",
    "for i,time in enumerate(times):\n",
    "    try:\n",
    "        rebound.integrate(time,maxR=50.)   \n",
    "    except rebound.ParticleEscaping as error:\n",
    "        print(error)\n",
    "        rebound.remove_particle(error.index)\n",
    "    for j in range(rebound.N):\n",
    "        xs[rebound.particles[j].ID,i] = rebound.particles[j].x\n",
    "        ys[rebound.particles[j].ID,i] = rebound.particles[j].y\n",
    "    \n",
    "fig,ax = plt.subplots(figsize=(15,5))\n",
    "for i in range(3):\n",
    "    ax.plot(xs[i,:], ys[i,:])\n",
    "ax.set_aspect('equal')\n",
    "ax.set_xlim([-2,10])"
   ]
  },
  {
   "cell_type": "markdown",
   "metadata": {},
   "source": [
    "Much better!  Since at the beginning of the integration the IDs match up with the corresponding indices in the `xs` and `ys` arrays, we solved problem by using the IDs as indices throughout the simulation.\n",
    "\n",
    "As an aside, the horizontal drift of the circular orbit is a real effect:  in the center of mass frame, if the Jupiter-mass planet is drifting right at some speed, the Sun must be moving at a speed lower by a factor of approximately 1000 (their mass ratio) in the opposite direction, so the Sun-particle2 system slowly drifts left.  If we integrated long enough, this would mean all our particles would eventually leave our box.  \n",
    "\n",
    "If we wanted to make sure things stayed in the box, we could additionally move to new center of mass frame after each removal of a particle, but this would introduce unphysical jumps in the remaining particles' time series, since their coordinates are measured between different inertial frames.  Of course, whether this matters depends on the application!"
   ]
  },
  {
   "cell_type": "code",
   "execution_count": null,
   "metadata": {
    "collapsed": true
   },
   "outputs": [],
   "source": []
  }
 ],
 "metadata": {
  "kernelspec": {
   "display_name": "Python 3",
   "language": "python",
   "name": "python3"
  },
  "language_info": {
   "codemirror_mode": {
    "name": "ipython",
    "version": 3
   },
   "file_extension": ".py",
   "mimetype": "text/x-python",
   "name": "python",
   "nbconvert_exporter": "python",
   "pygments_lexer": "ipython3",
   "version": "3.4.3"
  }
 },
 "nbformat": 4,
 "nbformat_minor": 0
}
