{
 "cells": [
  {
   "cell_type": "markdown",
   "metadata": {},
   "source": [
    "# REBOUND Tutorials\n",
    "\n",
    "1. [Installing REBOUND](Installation.ipynb)\n",
    "2. [The symplectic integrator WHFast](WHFast.ipynb)\n",
    "3. [Test particles](Testparticles.ipynb)\n",
    "4. [Catching close encounters and escaping planets using exceptions](Exceptions.ipynb)\n",
    "5. [Creating a stability map with MEGNO and WHFast](Megno.ipynb)\n",
    "6. [Using NASA Horizons and IAS15 to simulate a close encounter of Churyumov-Gerasimenko with Jupiter](Churyumov-Gerasimenko.ipynb)\n",
    "7. [Checkpoints (save and load binary data)](Checkpoints.ipynb)\n",
    "8. [Additional forces](Forces.ipynb)\n",
    "9. [Parallel computing using REBOUND and IPython/Jupyter](Parallel.ipynb)\n",
    "10. [Fourier Analysis & Resonances with WHFast](FourierSpectrum.ipynb)\n",
    "11. [A complete N-body simulation with visualization in 140 characters](Twitter.ipynb)"
   ]
  }
 ],
 "metadata": {
  "kernelspec": {
   "display_name": "Python 2",
   "language": "python",
   "name": "python2"
  },
  "language_info": {
   "codemirror_mode": {
    "name": "ipython",
    "version": 2
   },
   "file_extension": ".py",
   "mimetype": "text/x-python",
   "name": "python",
   "nbconvert_exporter": "python",
   "pygments_lexer": "ipython2",
   "version": "2.7.6"
  }
 },
 "nbformat": 4,
 "nbformat_minor": 0
}
