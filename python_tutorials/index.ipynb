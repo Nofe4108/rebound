{
 "cells": [
  {
   "cell_type": "markdown",
   "metadata": {},
   "source": [
    "# REBOUND Tutorials\n",
    "\n",
    "1. [Installing REBOUND](Installation.ipynb)\n",
    "2. [The symplectic integrator WHFast](WHFast.ipynb)\n",
    "3. [Test particles](Testparticles.ipynb)\n",
    "4. [Catching close encounters between planets using exceptions](CloseEncounters.ipynb)\n",
    "5. [Setting up a box beyond which you remove particles from the simulation](EscapingParticles.ipynb)\n",
    "6. [Assigning particles unique IDs and removing particles from the simulation](ParticleIDsAndRemoval.ipynb)\n",
    "7. [Creating a stability map with MEGNO and WHFast](Megno.ipynb)\n",
    "8. [Using NASA Horizons and IAS15 to simulate a close encounter of Churyumov-Gerasimenko with Jupiter](Churyumov-Gerasimenko.ipynb)\n",
    "9. [Checkpoints (save and load binary data)](Checkpoints.ipynb)\n",
    "10. [Additional forces](Forces.ipynb)\n",
    "11. [Parallel computing using REBOUND and IPython/Jupyter](Parallel.ipynb)\n",
    "12. [Fourier Analysis & Resonances with WHFast](FourierSpectrum.ipynb)\n",
    "13. [A complete N-body simulation with visualization in 140 characters](Twitter.ipynb)"
   ]
  },
  {
   "cell_type": "code",
   "execution_count": null,
   "metadata": {
    "collapsed": true
   },
   "outputs": [],
   "source": []
  }
 ],
 "metadata": {
  "kernelspec": {
   "display_name": "Python 3",
   "language": "python",
   "name": "python3"
  },
  "language_info": {
   "codemirror_mode": {
    "name": "ipython",
    "version": 3
   },
   "file_extension": ".py",
   "mimetype": "text/x-python",
   "name": "python",
   "nbconvert_exporter": "python",
   "pygments_lexer": "ipython3",
   "version": "3.4.3"
  }
 },
 "nbformat": 4,
 "nbformat_minor": 0
}
