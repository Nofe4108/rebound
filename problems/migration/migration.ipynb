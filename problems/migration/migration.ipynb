{
 "cells": [
  {
   "cell_type": "code",
   "execution_count": 1,
   "metadata": {
    "collapsed": false
   },
   "outputs": [
    {
     "data": {
      "text/plain": [
       "[<matplotlib.lines.Line2D at 0x108228198>]"
      ]
     },
     "execution_count": 1,
     "metadata": {},
     "output_type": "execute_result"
    },
    {
     "data": {
      "image/png": "[encoded data removed]",
      "text/plain": [
       "<matplotlib.figure.Figure at 0x105e8e9b0>"
      ]
     },
     "metadata": {},
     "output_type": "display_data"
    }
   ],
   "source": [
    "import rebound\n",
    "import reboundxf\n",
    "import numpy as np\n",
    "sim = rebound.Simulation()\n",
    "sim.force_is_velocity_dependent = 1\n",
    "sim.G = 4.*(np.pi)**2\n",
    "sim.integrator = 'whfast'\n",
    "sim.dt = 0.012\n",
    "sim.add(m=1.0)\n",
    "sim.add(m=1.e-8, a=1.0, e=0.0, anom = 0)\n",
    "sim.add(m=1.e-5, a=2.1**(2.0/3.0), e=0.0, anom = 0)\n",
    "sim.move_to_com()\n",
    "\n",
    "xf = reboundxf.Params(sim)\n",
    "tmax = 1.e5\n",
    "sim.post_timestep_modifications = reboundxf.modify_elements()\n",
    "xf.e_damping_p = 1.\n",
    "xf.tau_e = [0., 1.e5, 100.]\n",
    "xf.tau_a = [0., 1.e10, 1.e7]\n",
    "xf.tau_pomega = [0., 1.e5, 100.]\n",
    "\n",
    "Nout = 1000\n",
    "pratio = np.zeros(Nout)\n",
    "a1 = np.zeros(Nout)\n",
    "a2 = np.zeros(Nout)\n",
    "e1 = np.zeros(Nout)\n",
    "e2 = np.zeros(Nout)\n",
    "po1 = np.zeros(Nout)\n",
    "po2 = np.zeros(Nout)\n",
    "times = np.linspace(0,tmax,Nout)\n",
    "ps = sim.particles\n",
    "for i, time in enumerate(times):\n",
    "    sim.integrate(time)\n",
    "    o1 = ps[1].calculate_orbit(sim)\n",
    "    o2 = ps[2].calculate_orbit(sim)\n",
    "    a1[i] = o1.a\n",
    "    a2[i] = o2.a\n",
    "    e1[i] = o1.e\n",
    "    e2[i] = o2.e\n",
    "    po1[i] = o1.Omega + o1.omega\n",
    "    po2[i] = o2.Omega + o2.omega\n",
    "    pratio[i] = o2.P/o1.P\n",
    "%matplotlib inline\n",
    "import matplotlib.pyplot as plt\n",
    "plt.plot(times,pratio)"
   ]
  },
  {
   "cell_type": "code",
   "execution_count": null,
   "metadata": {
    "collapsed": true
   },
   "outputs": [],
   "source": []
  }
 ],
 "metadata": {
  "kernelspec": {
   "display_name": "Python 3",
   "language": "python",
   "name": "python3"
  },
  "language_info": {
   "codemirror_mode": {
    "name": "ipython",
    "version": 3
   },
   "file_extension": ".py",
   "mimetype": "text/x-python",
   "name": "python",
   "nbconvert_exporter": "python",
   "pygments_lexer": "ipython3",
   "version": "3.4.3"
  }
 },
 "nbformat": 4,
 "nbformat_minor": 0
}
