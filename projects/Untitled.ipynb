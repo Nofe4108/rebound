{
 "cells": [
  {
   "cell_type": "code",
   "execution_count": 52,
   "metadata": {},
   "outputs": [],
   "source": [
    "import rebound\n",
    "import numpy as np\n",
    "from random import random, uniform, seed"
   ]
  },
  {
   "cell_type": "code",
   "execution_count": 53,
   "metadata": {},
   "outputs": [],
   "source": [
    "def acrit(sim): # Holman & Wiegert 99 for the critical semimajor axis around each star\n",
    "    ps = sim.particles\n",
    "    mu = ps[1].m/(ps[1].m+ps[0].m)\n",
    "    return 0.464 - 0.38*mu - 0.631*ps[1].e +0.586*ps[1].e*mu + 0.15*ps[1].e**2 -0.198*ps[1].e**2*mu\n",
    "def stop(reb_sim, reb_col):\n",
    "    reb_sim.contents._status = 6\n",
    "    return 0"
   ]
  },
  {
   "cell_type": "code",
   "execution_count": 54,
   "metadata": {},
   "outputs": [],
   "source": [
    "def sample(randseed):\n",
    "    seed(randseed)\n",
    "    sim = rebound.Simulation()\n",
    "    sim.G = 4*np.pi**2\n",
    "    sim.add(m=1.)\n",
    "    sim.add(m=random(), a=1., e=random())\n",
    "    return max(acrit(sim), 0)"
   ]
  },
  {
   "cell_type": "code",
   "execution_count": 55,
   "metadata": {},
   "outputs": [
    {
     "data": {
      "text/plain": [
       "0.14930513570140028"
      ]
     },
     "execution_count": 55,
     "metadata": {},
     "output_type": "execute_result"
    }
   ],
   "source": [
    "Nsamples = 1000\n",
    "acrits = [sample(i) for i in range(Nsamples)]\n",
    "a = np.array(acrits).mean()\n",
    "a"
   ]
  },
  {
   "cell_type": "code",
   "execution_count": 31,
   "metadata": {},
   "outputs": [
    {
     "name": "stdout",
     "output_type": "stream",
     "text": [
      "acrit = 0.2407100000000001\n",
      "0.1504114965006919\n"
     ]
    }
   ],
   "source": [
    "sim = rebound.Simulation()\n",
    "sim.G = 4*np.pi**2\n",
    "Rmin = 1./215.\n",
    "sim.add(m=1., r=Rmin)\n",
    "sim.add(m=1., a=1., e=0.1, r=Rmin)\n",
    "sim.move_to_com()\n",
    "ps = sim.particles\n",
    "\n",
    "print('acrit = {0}'.format(acrit(sim)))\n",
    "sim.add(a=0.8*acrit(sim), primary=ps[0])\n",
    "print(ps[2].a)\n",
    "sim.exit_max_distance= 100.\n",
    "sim.collision=\"direct\"\n",
    "sim.collision_resolve = stop\n",
    "\n",
    "#rebx = reboundx.Extras(sim)\n",
    "#rebx.add(\"modify_orbits_forces\")\n",
    "#ps[2].params['tau_a'] = -1000*ps[2].P"
   ]
  },
  {
   "cell_type": "code",
   "execution_count": 36,
   "metadata": {},
   "outputs": [
    {
     "data": {
      "image/png": "[encoded data removed]",
      "text/plain": [
       "<matplotlib.figure.Figure at 0x10defc710>"
      ]
     },
     "metadata": {},
     "output_type": "display_data"
    }
   ],
   "source": [
    "%matplotlib inline\n",
    "fig = rebound.OrbitPlot(sim)"
   ]
  },
  {
   "cell_type": "code",
   "execution_count": 35,
   "metadata": {},
   "outputs": [],
   "source": [
    "sim.integrate(1.e4)"
   ]
  },
  {
   "cell_type": "code",
   "execution_count": null,
   "metadata": {},
   "outputs": [],
   "source": []
  }
 ],
 "metadata": {
  "kernelspec": {
   "display_name": "Python [conda env:p3]",
   "language": "python",
   "name": "conda-env-p3-py"
  },
  "language_info": {
   "codemirror_mode": {
    "name": "ipython",
    "version": 3
   },
   "file_extension": ".py",
   "mimetype": "text/x-python",
   "name": "python",
   "nbconvert_exporter": "python",
   "pygments_lexer": "ipython3",
   "version": "3.6.2"
  }
 },
 "nbformat": 4,
 "nbformat_minor": 2
}
